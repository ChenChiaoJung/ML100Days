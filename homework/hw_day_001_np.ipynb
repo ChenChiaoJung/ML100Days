{
 "cells": [
  {
   "cell_type": "code",
   "execution_count": 1,
   "metadata": {},
   "outputs": [],
   "source": [
    "import numpy as np"
   ]
  },
  {
   "cell_type": "code",
   "execution_count": 2,
   "metadata": {},
   "outputs": [
    {
     "name": "stdout",
     "output_type": "stream",
     "text": [
      "[ 0  1  2  3  4  5  6  7  8  9 10 11 12 13 14 15 16 17 18 19 20]\n"
     ]
    }
   ],
   "source": [
    "# 1. 生成一個等差數列，首數為0，尾數為20，公差為1的數列。\n",
    "q1 = np.arange(0,21)\n",
    "print(q1)"
   ]
  },
  {
   "cell_type": "code",
   "execution_count": 3,
   "metadata": {},
   "outputs": [
    {
     "name": "stdout",
     "output_type": "stream",
     "text": [
      "[0, 2, 4, 6, 8, 10, 12, 14, 16, 18, 20]\n"
     ]
    }
   ],
   "source": [
    "# 2. 呈上題，將以上數列取出偶數。\n",
    "q2 = []\n",
    "for i in range(0, len(q1)):\n",
    "    if(q1[i] % 2 == 0) :\n",
    "        q2.append(q1[i])\n",
    "        i = i +1\n",
    "print(q2)"
   ]
  },
  {
   "cell_type": "code",
   "execution_count": 4,
   "metadata": {},
   "outputs": [
    {
     "name": "stdout",
     "output_type": "stream",
     "text": [
      "[3, 6, 9, 12, 15, 18]\n"
     ]
    }
   ],
   "source": [
    "# 3. 呈1題，將數列取出3的倍數。\n",
    "q3 = []\n",
    "for i in range(1, len(q1)):\n",
    "    if(q1[i] % 3 == 0) :\n",
    "        q3.append(q1[i])\n",
    "        i = i +1\n",
    "print(q3)"
   ]
  },
  {
   "cell_type": "code",
   "execution_count": 5,
   "metadata": {},
   "outputs": [
    {
     "data": {
      "text/plain": [
       "' \\n4. [簡答題] 請問下列兩種將 Array 轉換成 List 的方式有何不同？\\n\\nans : \\n 用 list()的方法只會將array第一層轉換成list\\n 而用 tolist() 會將所有層的陣列都轉成list\\n'"
      ]
     },
     "execution_count": 5,
     "metadata": {},
     "output_type": "execute_result"
    }
   ],
   "source": [
    "''' \n",
    "4. [簡答題] 請問下列兩種將 Array 轉換成 List 的方式有何不同？\n",
    "\n",
    "ans : \n",
    " 用 list()的方法只會將array第一層轉換成list\n",
    " 而用 tolist() 會將所有層的陣列都轉成list\n",
    "'''"
   ]
  },
  {
   "cell_type": "code",
   "execution_count": 6,
   "metadata": {},
   "outputs": [
    {
     "name": "stdout",
     "output_type": "stream",
     "text": [
      "[18 13 11  6  2 12  0 17  1  6]\n",
      "1\n",
      "(10,)\n",
      "10\n",
      "int32\n",
      "4\n",
      "10\n"
     ]
    }
   ],
   "source": [
    "# 5. 請試著在程式中印出以下三個 NdArray 的屬性？（屬性：ndim、shape、size、dtype、itemsize、length、type）\n",
    "#import numpy as np\n",
    "\n",
    "q5 = np.random.randint(20, size=10)\n",
    "print(q5)\n",
    "print(q5.ndim)\n",
    "print(q5.shape)\n",
    "print(q5.size)\n",
    "print(q5.dtype)\n",
    "print(q5.itemsize)\n",
    "print(len(q5))"
   ]
  },
  {
   "cell_type": "code",
   "execution_count": 7,
   "metadata": {},
   "outputs": [
    {
     "name": "stdout",
     "output_type": "stream",
     "text": [
      "[[ 0  1  2  3]\n",
      " [ 4  5  6  7]\n",
      " [ 8  9 10 11]]\n",
      "[array([0, 1, 2, 3]), array([4, 5, 6, 7]), array([ 8,  9, 10, 11])]\n",
      "[[0, 1, 2, 3], [4, 5, 6, 7], [8, 9, 10, 11]]\n"
     ]
    }
   ],
   "source": [
    "# 6. 如何利用 list(...) 實現 a.tolist() 的效果？試著用程式實作。\n",
    "#import numpy as np\n",
    "q6 = np.arange(12).reshape(3,4)\n",
    "print(q6)\n",
    "\n",
    "# list()\n",
    "print(list(q6))\n",
    "\n",
    "# tolist\n",
    "print(q6.tolist())"
   ]
  }
 ],
 "metadata": {
  "kernelspec": {
   "display_name": "Python 3",
   "language": "python",
   "name": "python3"
  },
  "language_info": {
   "codemirror_mode": {
    "name": "ipython",
    "version": 3
   },
   "file_extension": ".py",
   "mimetype": "text/x-python",
   "name": "python",
   "nbconvert_exporter": "python",
   "pygments_lexer": "ipython3",
   "version": "3.6.5"
  }
 },
 "nbformat": 4,
 "nbformat_minor": 2
}
